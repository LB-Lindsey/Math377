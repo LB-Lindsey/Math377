{
 "cells": [
  {
   "cell_type": "markdown",
   "metadata": {},
   "source": [
    "1. Data science is the process of drawing useful conclusions through exploration, prediction, and inference. I will use data science in my career almost everyday if I am an OR Analyst. My boss will give me a job to do with the resources needed and I will have to draw some sort of conclusion in a communicative way to give back to the boss.\n",
    "\n",
    "2. Exploration Inference Prediction\n",
    "\n",
    "3. Done\n",
    "\n",
    "4. See Below"
   ]
  },
  {
   "cell_type": "code",
   "execution_count": 1,
   "metadata": {},
   "outputs": [
    {
     "data": {
      "text/plain": [
       "4"
      ]
     },
     "execution_count": 1,
     "metadata": {},
     "output_type": "execute_result"
    }
   ],
   "source": [
    "#practicing basic arithmetic to get familiar with python\n",
    "2+2"
   ]
  },
  {
   "cell_type": "code",
   "execution_count": 2,
   "metadata": {},
   "outputs": [
    {
     "data": {
      "text/plain": [
       "35"
      ]
     },
     "execution_count": 2,
     "metadata": {},
     "output_type": "execute_result"
    }
   ],
   "source": [
    "5*7"
   ]
  },
  {
   "cell_type": "code",
   "execution_count": 5,
   "metadata": {},
   "outputs": [
    {
     "data": {
      "text/plain": [
       "163"
      ]
     },
     "execution_count": 5,
     "metadata": {},
     "output_type": "execute_result"
    }
   ],
   "source": [
    "52+111"
   ]
  },
  {
   "cell_type": "code",
   "execution_count": 6,
   "metadata": {},
   "outputs": [
    {
     "data": {
      "text/plain": [
       "240"
      ]
     },
     "execution_count": 6,
     "metadata": {},
     "output_type": "execute_result"
    }
   ],
   "source": [
    "20*12"
   ]
  },
  {
   "cell_type": "code",
   "execution_count": 13,
   "metadata": {},
   "outputs": [
    {
     "name": "stdout",
     "output_type": "stream",
     "text": [
      "Jeff Gerlica👍\n"
     ]
    }
   ],
   "source": [
    "# 5 printing my name with a thumbs up\n",
    "print(\"Jeff Gerlica\" u\"\\U0001F44D\")"
   ]
  },
  {
   "cell_type": "markdown",
   "metadata": {},
   "source": [
    "6. No, just because there is a correlation between the two, you cannot imply causation. Causation and correlation are sepereate entities. Experiments must be run with a control group to establish a medium of comparison. For example, a scientist can analyze a city with high crime and another with histrically low crime rates then raise the ice cream sales of both and analyze what happens. Establishing comparison is a key component of determining causality.\n",
    "\n",
    "7. In an observational study, the independent variable is not under control of the one conductng the study which leads to less manipulation because of the pre-existing condition. An experiment implies a control group and more manipulation freedom of what is being studied. Experiments yield stronger results becasue of the degree you can compare to a control group."
   ]
  },
  {
   "cell_type": "code",
   "execution_count": null,
   "metadata": {},
   "outputs": [],
   "source": []
  }
 ],
 "metadata": {
  "kernelspec": {
   "display_name": "Python 3",
   "language": "python",
   "name": "python3"
  },
  "language_info": {
   "codemirror_mode": {
    "name": "ipython",
    "version": 3
   },
   "file_extension": ".py",
   "mimetype": "text/x-python",
   "name": "python",
   "nbconvert_exporter": "python",
   "pygments_lexer": "ipython3",
   "version": "3.6.5"
  }
 },
 "nbformat": 4,
 "nbformat_minor": 2
}
